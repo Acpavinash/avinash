{
 "cells": [
  {
   "cell_type": "code",
   "execution_count": 1,
   "id": "a4fa075b",
   "metadata": {},
   "outputs": [
    {
     "name": "stdout",
     "output_type": "stream",
     "text": [
      "hello world\n"
     ]
    }
   ],
   "source": [
    "print(\"hello world\")"
   ]
  },
  {
   "cell_type": "code",
   "execution_count": 3,
   "id": "fa2ec78f",
   "metadata": {},
   "outputs": [
    {
     "name": "stdout",
     "output_type": "stream",
     "text": [
      "welcome to world data science\n"
     ]
    }
   ],
   "source": [
    "hello= \"welcome to world data science\"\n",
    "print(hello)"
   ]
  },
  {
   "cell_type": "code",
   "execution_count": 4,
   "id": "f8b3c82b",
   "metadata": {},
   "outputs": [
    {
     "name": "stdout",
     "output_type": "stream",
     "text": [
      "avinash singh\n"
     ]
    }
   ],
   "source": [
    "print(\"avinash singh\")"
   ]
  },
  {
   "cell_type": "code",
   "execution_count": 5,
   "id": "635dd6bd",
   "metadata": {},
   "outputs": [
    {
     "name": "stdout",
     "output_type": "stream",
     "text": [
      "ips officer avinash\n"
     ]
    }
   ],
   "source": [
    "print(\"ips officer avinash\")"
   ]
  },
  {
   "cell_type": "code",
   "execution_count": 6,
   "id": "be7f80ef",
   "metadata": {},
   "outputs": [
    {
     "name": "stdout",
     "output_type": "stream",
     "text": [
      "ips officer avinash singh\n"
     ]
    }
   ],
   "source": [
    "avinash= \"ips officer avinash singh\"\n",
    "print(avinash)"
   ]
  },
  {
   "cell_type": "code",
   "execution_count": 12,
   "id": "e36e0b5e",
   "metadata": {},
   "outputs": [
    {
     "name": "stdout",
     "output_type": "stream",
     "text": [
      "5\n"
     ]
    }
   ],
   "source": [
    "x=15\n",
    "y=10\n",
    "print(x-y)"
   ]
  },
  {
   "cell_type": "code",
   "execution_count": null,
   "id": "14fcccdd",
   "metadata": {},
   "outputs": [],
   "source": []
  },
  {
   "cell_type": "code",
   "execution_count": null,
   "id": "3d0792f1",
   "metadata": {},
   "outputs": [],
   "source": []
  }
 ],
 "metadata": {
  "kernelspec": {
   "display_name": "Python 3 (ipykernel)",
   "language": "python",
   "name": "python3"
  },
  "language_info": {
   "codemirror_mode": {
    "name": "ipython",
    "version": 3
   },
   "file_extension": ".py",
   "mimetype": "text/x-python",
   "name": "python",
   "nbconvert_exporter": "python",
   "pygments_lexer": "ipython3",
   "version": "3.10.9"
  }
 },
 "nbformat": 4,
 "nbformat_minor": 5
}
